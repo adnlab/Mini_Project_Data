{
  "nbformat": 4,
  "nbformat_minor": 0,
  "metadata": {
    "colab": {
      "name": "Dicoding NLP Submission",
      "provenance": [],
      "collapsed_sections": [],
      "authorship_tag": "ABX9TyOgaZ/aLs03r2zPa8l0O8DW",
      "include_colab_link": true
    },
    "kernelspec": {
      "name": "python3",
      "display_name": "Python 3"
    },
    "language_info": {
      "name": "python"
    }
  },
  "cells": [
    {
      "cell_type": "markdown",
      "metadata": {
        "id": "view-in-github",
        "colab_type": "text"
      },
      "source": [
        "<a href=\"https://colab.research.google.com/github/adnlab/Mini_Project_Data/blob/main/Dicoding_NLP_Submission.ipynb\" target=\"_parent\"><img src=\"https://colab.research.google.com/assets/colab-badge.svg\" alt=\"Open In Colab\"/></a>"
      ]
    },
    {
      "cell_type": "markdown",
      "source": [
        "# Data Diri"
      ],
      "metadata": {
        "id": "vHVdwLKAz5I2"
      }
    },
    {
      "cell_type": "markdown",
      "source": [
        "Adnan Muhammad Lazuardi\n",
        "\n",
        "adnanm.lazuardi@gmail.com"
      ],
      "metadata": {
        "id": "GkmhDlnBz5zL"
      }
    },
    {
      "cell_type": "markdown",
      "source": [
        "Sumber dataset:\n",
        "\n",
        "https://www.kaggle.com/datasets/praveengovi/emotions-dataset-for-nlp\n",
        "\n",
        "dataset yang diperoleh digabungkan kedalam satu dokumen dengan nama emotion.**txt**"
      ],
      "metadata": {
        "id": "1s33At8UxrG7"
      }
    },
    {
      "cell_type": "code",
      "source": [
        "import pandas as pd\n",
        "df = pd.read_csv('emotion.txt', names=['sentence', 'emotion'], sep=';')"
      ],
      "metadata": {
        "id": "r0wPQwlNxfhb"
      },
      "execution_count": null,
      "outputs": []
    },
    {
      "cell_type": "code",
      "source": [
        "df.head()"
      ],
      "metadata": {
        "colab": {
          "base_uri": "https://localhost:8080/",
          "height": 206
        },
        "id": "O4F85xTfx1Vy",
        "outputId": "21473083-f719-4a66-8a49-979597f09f36"
      },
      "execution_count": null,
      "outputs": [
        {
          "output_type": "execute_result",
          "data": {
            "text/plain": [
              "                                            sentence  emotion\n",
              "0  im feeling rather rotten so im not very ambiti...  sadness\n",
              "1          im updating my blog because i feel shitty  sadness\n",
              "2  i never make her separate from me because i do...  sadness\n",
              "3  i left with my bouquet of red and yellow tulip...      joy\n",
              "4    i was feeling a little vain when i did this one  sadness"
            ],
            "text/html": [
              "\n",
              "  <div id=\"df-e9c98f7b-c309-47fc-843d-c02ba4e67fae\">\n",
              "    <div class=\"colab-df-container\">\n",
              "      <div>\n",
              "<style scoped>\n",
              "    .dataframe tbody tr th:only-of-type {\n",
              "        vertical-align: middle;\n",
              "    }\n",
              "\n",
              "    .dataframe tbody tr th {\n",
              "        vertical-align: top;\n",
              "    }\n",
              "\n",
              "    .dataframe thead th {\n",
              "        text-align: right;\n",
              "    }\n",
              "</style>\n",
              "<table border=\"1\" class=\"dataframe\">\n",
              "  <thead>\n",
              "    <tr style=\"text-align: right;\">\n",
              "      <th></th>\n",
              "      <th>sentence</th>\n",
              "      <th>emotion</th>\n",
              "    </tr>\n",
              "  </thead>\n",
              "  <tbody>\n",
              "    <tr>\n",
              "      <th>0</th>\n",
              "      <td>im feeling rather rotten so im not very ambiti...</td>\n",
              "      <td>sadness</td>\n",
              "    </tr>\n",
              "    <tr>\n",
              "      <th>1</th>\n",
              "      <td>im updating my blog because i feel shitty</td>\n",
              "      <td>sadness</td>\n",
              "    </tr>\n",
              "    <tr>\n",
              "      <th>2</th>\n",
              "      <td>i never make her separate from me because i do...</td>\n",
              "      <td>sadness</td>\n",
              "    </tr>\n",
              "    <tr>\n",
              "      <th>3</th>\n",
              "      <td>i left with my bouquet of red and yellow tulip...</td>\n",
              "      <td>joy</td>\n",
              "    </tr>\n",
              "    <tr>\n",
              "      <th>4</th>\n",
              "      <td>i was feeling a little vain when i did this one</td>\n",
              "      <td>sadness</td>\n",
              "    </tr>\n",
              "  </tbody>\n",
              "</table>\n",
              "</div>\n",
              "      <button class=\"colab-df-convert\" onclick=\"convertToInteractive('df-e9c98f7b-c309-47fc-843d-c02ba4e67fae')\"\n",
              "              title=\"Convert this dataframe to an interactive table.\"\n",
              "              style=\"display:none;\">\n",
              "        \n",
              "  <svg xmlns=\"http://www.w3.org/2000/svg\" height=\"24px\"viewBox=\"0 0 24 24\"\n",
              "       width=\"24px\">\n",
              "    <path d=\"M0 0h24v24H0V0z\" fill=\"none\"/>\n",
              "    <path d=\"M18.56 5.44l.94 2.06.94-2.06 2.06-.94-2.06-.94-.94-2.06-.94 2.06-2.06.94zm-11 1L8.5 8.5l.94-2.06 2.06-.94-2.06-.94L8.5 2.5l-.94 2.06-2.06.94zm10 10l.94 2.06.94-2.06 2.06-.94-2.06-.94-.94-2.06-.94 2.06-2.06.94z\"/><path d=\"M17.41 7.96l-1.37-1.37c-.4-.4-.92-.59-1.43-.59-.52 0-1.04.2-1.43.59L10.3 9.45l-7.72 7.72c-.78.78-.78 2.05 0 2.83L4 21.41c.39.39.9.59 1.41.59.51 0 1.02-.2 1.41-.59l7.78-7.78 2.81-2.81c.8-.78.8-2.07 0-2.86zM5.41 20L4 18.59l7.72-7.72 1.47 1.35L5.41 20z\"/>\n",
              "  </svg>\n",
              "      </button>\n",
              "      \n",
              "  <style>\n",
              "    .colab-df-container {\n",
              "      display:flex;\n",
              "      flex-wrap:wrap;\n",
              "      gap: 12px;\n",
              "    }\n",
              "\n",
              "    .colab-df-convert {\n",
              "      background-color: #E8F0FE;\n",
              "      border: none;\n",
              "      border-radius: 50%;\n",
              "      cursor: pointer;\n",
              "      display: none;\n",
              "      fill: #1967D2;\n",
              "      height: 32px;\n",
              "      padding: 0 0 0 0;\n",
              "      width: 32px;\n",
              "    }\n",
              "\n",
              "    .colab-df-convert:hover {\n",
              "      background-color: #E2EBFA;\n",
              "      box-shadow: 0px 1px 2px rgba(60, 64, 67, 0.3), 0px 1px 3px 1px rgba(60, 64, 67, 0.15);\n",
              "      fill: #174EA6;\n",
              "    }\n",
              "\n",
              "    [theme=dark] .colab-df-convert {\n",
              "      background-color: #3B4455;\n",
              "      fill: #D2E3FC;\n",
              "    }\n",
              "\n",
              "    [theme=dark] .colab-df-convert:hover {\n",
              "      background-color: #434B5C;\n",
              "      box-shadow: 0px 1px 3px 1px rgba(0, 0, 0, 0.15);\n",
              "      filter: drop-shadow(0px 1px 2px rgba(0, 0, 0, 0.3));\n",
              "      fill: #FFFFFF;\n",
              "    }\n",
              "  </style>\n",
              "\n",
              "      <script>\n",
              "        const buttonEl =\n",
              "          document.querySelector('#df-e9c98f7b-c309-47fc-843d-c02ba4e67fae button.colab-df-convert');\n",
              "        buttonEl.style.display =\n",
              "          google.colab.kernel.accessAllowed ? 'block' : 'none';\n",
              "\n",
              "        async function convertToInteractive(key) {\n",
              "          const element = document.querySelector('#df-e9c98f7b-c309-47fc-843d-c02ba4e67fae');\n",
              "          const dataTable =\n",
              "            await google.colab.kernel.invokeFunction('convertToInteractive',\n",
              "                                                     [key], {});\n",
              "          if (!dataTable) return;\n",
              "\n",
              "          const docLinkHtml = 'Like what you see? Visit the ' +\n",
              "            '<a target=\"_blank\" href=https://colab.research.google.com/notebooks/data_table.ipynb>data table notebook</a>'\n",
              "            + ' to learn more about interactive tables.';\n",
              "          element.innerHTML = '';\n",
              "          dataTable['output_type'] = 'display_data';\n",
              "          await google.colab.output.renderOutput(dataTable, element);\n",
              "          const docLink = document.createElement('div');\n",
              "          docLink.innerHTML = docLinkHtml;\n",
              "          element.appendChild(docLink);\n",
              "        }\n",
              "      </script>\n",
              "    </div>\n",
              "  </div>\n",
              "  "
            ]
          },
          "metadata": {},
          "execution_count": 2
        }
      ]
    },
    {
      "cell_type": "code",
      "source": [
        "df.info()"
      ],
      "metadata": {
        "colab": {
          "base_uri": "https://localhost:8080/"
        },
        "id": "tk3WAfJxx2lq",
        "outputId": "2b26898d-ba64-40a3-c809-f0b69b23cda5"
      },
      "execution_count": null,
      "outputs": [
        {
          "output_type": "stream",
          "name": "stdout",
          "text": [
            "<class 'pandas.core.frame.DataFrame'>\n",
            "RangeIndex: 20000 entries, 0 to 19999\n",
            "Data columns (total 2 columns):\n",
            " #   Column    Non-Null Count  Dtype \n",
            "---  ------    --------------  ----- \n",
            " 0   sentence  20000 non-null  object\n",
            " 1   emotion   20000 non-null  object\n",
            "dtypes: object(2)\n",
            "memory usage: 312.6+ KB\n"
          ]
        }
      ]
    },
    {
      "cell_type": "code",
      "source": [
        "category = pd.get_dummies(df.emotion)\n",
        "dfn = pd.concat([df, category], axis=1)\n",
        "dfn = dfn.drop(columns='emotion')\n",
        "dfn"
      ],
      "metadata": {
        "colab": {
          "base_uri": "https://localhost:8080/",
          "height": 424
        },
        "id": "LCTvkMIMx4SD",
        "outputId": "ddeaa158-941b-45aa-bcca-a3ec1abe3d55"
      },
      "execution_count": null,
      "outputs": [
        {
          "output_type": "execute_result",
          "data": {
            "text/plain": [
              "                                                sentence  anger  fear  joy  \\\n",
              "0      im feeling rather rotten so im not very ambiti...      0     0    0   \n",
              "1              im updating my blog because i feel shitty      0     0    0   \n",
              "2      i never make her separate from me because i do...      0     0    0   \n",
              "3      i left with my bouquet of red and yellow tulip...      0     0    1   \n",
              "4        i was feeling a little vain when i did this one      0     0    0   \n",
              "...                                                  ...    ...   ...  ...   \n",
              "19995  im having ssa examination tomorrow in the morn...      0     0    0   \n",
              "19996  i constantly worry about their fight against n...      0     0    1   \n",
              "19997  i feel its important to share this info for th...      0     0    1   \n",
              "19998  i truly feel that if you are passionate enough...      0     0    1   \n",
              "19999  i feel like i just wanna buy any cute make up ...      0     0    1   \n",
              "\n",
              "       love  sadness  surprise  \n",
              "0         0        1         0  \n",
              "1         0        1         0  \n",
              "2         0        1         0  \n",
              "3         0        0         0  \n",
              "4         0        1         0  \n",
              "...     ...      ...       ...  \n",
              "19995     0        1         0  \n",
              "19996     0        0         0  \n",
              "19997     0        0         0  \n",
              "19998     0        0         0  \n",
              "19999     0        0         0  \n",
              "\n",
              "[20000 rows x 7 columns]"
            ],
            "text/html": [
              "\n",
              "  <div id=\"df-a25dd41e-f90b-468c-b517-95c53f4c0642\">\n",
              "    <div class=\"colab-df-container\">\n",
              "      <div>\n",
              "<style scoped>\n",
              "    .dataframe tbody tr th:only-of-type {\n",
              "        vertical-align: middle;\n",
              "    }\n",
              "\n",
              "    .dataframe tbody tr th {\n",
              "        vertical-align: top;\n",
              "    }\n",
              "\n",
              "    .dataframe thead th {\n",
              "        text-align: right;\n",
              "    }\n",
              "</style>\n",
              "<table border=\"1\" class=\"dataframe\">\n",
              "  <thead>\n",
              "    <tr style=\"text-align: right;\">\n",
              "      <th></th>\n",
              "      <th>sentence</th>\n",
              "      <th>anger</th>\n",
              "      <th>fear</th>\n",
              "      <th>joy</th>\n",
              "      <th>love</th>\n",
              "      <th>sadness</th>\n",
              "      <th>surprise</th>\n",
              "    </tr>\n",
              "  </thead>\n",
              "  <tbody>\n",
              "    <tr>\n",
              "      <th>0</th>\n",
              "      <td>im feeling rather rotten so im not very ambiti...</td>\n",
              "      <td>0</td>\n",
              "      <td>0</td>\n",
              "      <td>0</td>\n",
              "      <td>0</td>\n",
              "      <td>1</td>\n",
              "      <td>0</td>\n",
              "    </tr>\n",
              "    <tr>\n",
              "      <th>1</th>\n",
              "      <td>im updating my blog because i feel shitty</td>\n",
              "      <td>0</td>\n",
              "      <td>0</td>\n",
              "      <td>0</td>\n",
              "      <td>0</td>\n",
              "      <td>1</td>\n",
              "      <td>0</td>\n",
              "    </tr>\n",
              "    <tr>\n",
              "      <th>2</th>\n",
              "      <td>i never make her separate from me because i do...</td>\n",
              "      <td>0</td>\n",
              "      <td>0</td>\n",
              "      <td>0</td>\n",
              "      <td>0</td>\n",
              "      <td>1</td>\n",
              "      <td>0</td>\n",
              "    </tr>\n",
              "    <tr>\n",
              "      <th>3</th>\n",
              "      <td>i left with my bouquet of red and yellow tulip...</td>\n",
              "      <td>0</td>\n",
              "      <td>0</td>\n",
              "      <td>1</td>\n",
              "      <td>0</td>\n",
              "      <td>0</td>\n",
              "      <td>0</td>\n",
              "    </tr>\n",
              "    <tr>\n",
              "      <th>4</th>\n",
              "      <td>i was feeling a little vain when i did this one</td>\n",
              "      <td>0</td>\n",
              "      <td>0</td>\n",
              "      <td>0</td>\n",
              "      <td>0</td>\n",
              "      <td>1</td>\n",
              "      <td>0</td>\n",
              "    </tr>\n",
              "    <tr>\n",
              "      <th>...</th>\n",
              "      <td>...</td>\n",
              "      <td>...</td>\n",
              "      <td>...</td>\n",
              "      <td>...</td>\n",
              "      <td>...</td>\n",
              "      <td>...</td>\n",
              "      <td>...</td>\n",
              "    </tr>\n",
              "    <tr>\n",
              "      <th>19995</th>\n",
              "      <td>im having ssa examination tomorrow in the morn...</td>\n",
              "      <td>0</td>\n",
              "      <td>0</td>\n",
              "      <td>0</td>\n",
              "      <td>0</td>\n",
              "      <td>1</td>\n",
              "      <td>0</td>\n",
              "    </tr>\n",
              "    <tr>\n",
              "      <th>19996</th>\n",
              "      <td>i constantly worry about their fight against n...</td>\n",
              "      <td>0</td>\n",
              "      <td>0</td>\n",
              "      <td>1</td>\n",
              "      <td>0</td>\n",
              "      <td>0</td>\n",
              "      <td>0</td>\n",
              "    </tr>\n",
              "    <tr>\n",
              "      <th>19997</th>\n",
              "      <td>i feel its important to share this info for th...</td>\n",
              "      <td>0</td>\n",
              "      <td>0</td>\n",
              "      <td>1</td>\n",
              "      <td>0</td>\n",
              "      <td>0</td>\n",
              "      <td>0</td>\n",
              "    </tr>\n",
              "    <tr>\n",
              "      <th>19998</th>\n",
              "      <td>i truly feel that if you are passionate enough...</td>\n",
              "      <td>0</td>\n",
              "      <td>0</td>\n",
              "      <td>1</td>\n",
              "      <td>0</td>\n",
              "      <td>0</td>\n",
              "      <td>0</td>\n",
              "    </tr>\n",
              "    <tr>\n",
              "      <th>19999</th>\n",
              "      <td>i feel like i just wanna buy any cute make up ...</td>\n",
              "      <td>0</td>\n",
              "      <td>0</td>\n",
              "      <td>1</td>\n",
              "      <td>0</td>\n",
              "      <td>0</td>\n",
              "      <td>0</td>\n",
              "    </tr>\n",
              "  </tbody>\n",
              "</table>\n",
              "<p>20000 rows × 7 columns</p>\n",
              "</div>\n",
              "      <button class=\"colab-df-convert\" onclick=\"convertToInteractive('df-a25dd41e-f90b-468c-b517-95c53f4c0642')\"\n",
              "              title=\"Convert this dataframe to an interactive table.\"\n",
              "              style=\"display:none;\">\n",
              "        \n",
              "  <svg xmlns=\"http://www.w3.org/2000/svg\" height=\"24px\"viewBox=\"0 0 24 24\"\n",
              "       width=\"24px\">\n",
              "    <path d=\"M0 0h24v24H0V0z\" fill=\"none\"/>\n",
              "    <path d=\"M18.56 5.44l.94 2.06.94-2.06 2.06-.94-2.06-.94-.94-2.06-.94 2.06-2.06.94zm-11 1L8.5 8.5l.94-2.06 2.06-.94-2.06-.94L8.5 2.5l-.94 2.06-2.06.94zm10 10l.94 2.06.94-2.06 2.06-.94-2.06-.94-.94-2.06-.94 2.06-2.06.94z\"/><path d=\"M17.41 7.96l-1.37-1.37c-.4-.4-.92-.59-1.43-.59-.52 0-1.04.2-1.43.59L10.3 9.45l-7.72 7.72c-.78.78-.78 2.05 0 2.83L4 21.41c.39.39.9.59 1.41.59.51 0 1.02-.2 1.41-.59l7.78-7.78 2.81-2.81c.8-.78.8-2.07 0-2.86zM5.41 20L4 18.59l7.72-7.72 1.47 1.35L5.41 20z\"/>\n",
              "  </svg>\n",
              "      </button>\n",
              "      \n",
              "  <style>\n",
              "    .colab-df-container {\n",
              "      display:flex;\n",
              "      flex-wrap:wrap;\n",
              "      gap: 12px;\n",
              "    }\n",
              "\n",
              "    .colab-df-convert {\n",
              "      background-color: #E8F0FE;\n",
              "      border: none;\n",
              "      border-radius: 50%;\n",
              "      cursor: pointer;\n",
              "      display: none;\n",
              "      fill: #1967D2;\n",
              "      height: 32px;\n",
              "      padding: 0 0 0 0;\n",
              "      width: 32px;\n",
              "    }\n",
              "\n",
              "    .colab-df-convert:hover {\n",
              "      background-color: #E2EBFA;\n",
              "      box-shadow: 0px 1px 2px rgba(60, 64, 67, 0.3), 0px 1px 3px 1px rgba(60, 64, 67, 0.15);\n",
              "      fill: #174EA6;\n",
              "    }\n",
              "\n",
              "    [theme=dark] .colab-df-convert {\n",
              "      background-color: #3B4455;\n",
              "      fill: #D2E3FC;\n",
              "    }\n",
              "\n",
              "    [theme=dark] .colab-df-convert:hover {\n",
              "      background-color: #434B5C;\n",
              "      box-shadow: 0px 1px 3px 1px rgba(0, 0, 0, 0.15);\n",
              "      filter: drop-shadow(0px 1px 2px rgba(0, 0, 0, 0.3));\n",
              "      fill: #FFFFFF;\n",
              "    }\n",
              "  </style>\n",
              "\n",
              "      <script>\n",
              "        const buttonEl =\n",
              "          document.querySelector('#df-a25dd41e-f90b-468c-b517-95c53f4c0642 button.colab-df-convert');\n",
              "        buttonEl.style.display =\n",
              "          google.colab.kernel.accessAllowed ? 'block' : 'none';\n",
              "\n",
              "        async function convertToInteractive(key) {\n",
              "          const element = document.querySelector('#df-a25dd41e-f90b-468c-b517-95c53f4c0642');\n",
              "          const dataTable =\n",
              "            await google.colab.kernel.invokeFunction('convertToInteractive',\n",
              "                                                     [key], {});\n",
              "          if (!dataTable) return;\n",
              "\n",
              "          const docLinkHtml = 'Like what you see? Visit the ' +\n",
              "            '<a target=\"_blank\" href=https://colab.research.google.com/notebooks/data_table.ipynb>data table notebook</a>'\n",
              "            + ' to learn more about interactive tables.';\n",
              "          element.innerHTML = '';\n",
              "          dataTable['output_type'] = 'display_data';\n",
              "          await google.colab.output.renderOutput(dataTable, element);\n",
              "          const docLink = document.createElement('div');\n",
              "          docLink.innerHTML = docLinkHtml;\n",
              "          element.appendChild(docLink);\n",
              "        }\n",
              "      </script>\n",
              "    </div>\n",
              "  </div>\n",
              "  "
            ]
          },
          "metadata": {},
          "execution_count": 4
        }
      ]
    },
    {
      "cell_type": "code",
      "source": [
        "text = dfn['sentence'].values\n",
        "emotion = dfn[['anger', 'fear', 'joy', 'love', 'sadness', 'surprise']].values"
      ],
      "metadata": {
        "id": "EUPjqHEEx54f"
      },
      "execution_count": null,
      "outputs": []
    },
    {
      "cell_type": "code",
      "source": [
        "from sklearn.model_selection import train_test_split\n",
        "txt_train, txt_test, e_train, e_test = train_test_split(text, emotion, test_size=0.2)"
      ],
      "metadata": {
        "id": "jIRpFcUOx7Ln"
      },
      "execution_count": null,
      "outputs": []
    },
    {
      "cell_type": "code",
      "source": [
        "from tensorflow.keras.preprocessing.text import Tokenizer\n",
        "from tensorflow.keras.preprocessing.sequence import pad_sequences\n",
        " \n",
        "tokenizer = Tokenizer(num_words=10000, oov_token='x')\n",
        "tokenizer.fit_on_texts(txt_train) \n",
        "tokenizer.fit_on_texts(txt_test)\n",
        " \n",
        "sq_train = tokenizer.texts_to_sequences(txt_train)\n",
        "sq_test = tokenizer.texts_to_sequences(txt_test)\n",
        " \n",
        "padded_train = pad_sequences(sq_train) \n",
        "padded_test = pad_sequences(sq_test)"
      ],
      "metadata": {
        "id": "WAfmSVkEx8Nk"
      },
      "execution_count": null,
      "outputs": []
    },
    {
      "cell_type": "code",
      "source": [
        "import tensorflow as tf\n",
        "model = tf.keras.Sequential([\n",
        "    tf.keras.layers.Embedding(input_dim=10000, output_dim=16),\n",
        "    tf.keras.layers.SpatialDropout1D(0.4),\n",
        "    tf.keras.layers.LSTM(64),\n",
        "    tf.keras.layers.Dense(128, activation='relu'),\n",
        "    tf.keras.layers.Dropout(0.5),\n",
        "    tf.keras.layers.Dense(64, activation='relu'),\n",
        "    tf.keras.layers.Dense(6, activation='softmax')\n",
        "])\n",
        "model.compile(loss='categorical_crossentropy',optimizer='adam',metrics=['accuracy'])"
      ],
      "metadata": {
        "id": "Roh6aj6Xx9P1"
      },
      "execution_count": null,
      "outputs": []
    },
    {
      "cell_type": "code",
      "source": [
        "early = tf.keras.callbacks.EarlyStopping( patience=10,\n",
        "                                          min_delta=0.001,\n",
        "                                          restore_best_weights=True)"
      ],
      "metadata": {
        "id": "w0jFFweCx-Xb"
      },
      "execution_count": null,
      "outputs": []
    },
    {
      "cell_type": "code",
      "source": [
        "num_epochs = 30\n",
        "history = model.fit(padded_train, e_train, epochs=num_epochs, \n",
        "                    validation_data=(padded_test, e_test), verbose=2, callbacks=[early])"
      ],
      "metadata": {
        "colab": {
          "base_uri": "https://localhost:8080/"
        },
        "id": "EPoufWwBx_YO",
        "outputId": "897654e3-b7ce-44d3-dec5-36f52b1b76d8"
      },
      "execution_count": null,
      "outputs": [
        {
          "output_type": "stream",
          "name": "stdout",
          "text": [
            "Epoch 1/30\n",
            "500/500 - 35s - loss: 1.4632 - accuracy: 0.3557 - val_loss: 1.2382 - val_accuracy: 0.4230 - 35s/epoch - 70ms/step\n",
            "Epoch 2/30\n",
            "500/500 - 18s - loss: 1.0932 - accuracy: 0.4835 - val_loss: 0.9630 - val_accuracy: 0.6112 - 18s/epoch - 36ms/step\n",
            "Epoch 3/30\n",
            "500/500 - 17s - loss: 0.7603 - accuracy: 0.6940 - val_loss: 0.6826 - val_accuracy: 0.7297 - 17s/epoch - 34ms/step\n",
            "Epoch 4/30\n",
            "500/500 - 17s - loss: 0.5887 - accuracy: 0.7664 - val_loss: 0.5763 - val_accuracy: 0.7785 - 17s/epoch - 34ms/step\n",
            "Epoch 5/30\n",
            "500/500 - 26s - loss: 0.5002 - accuracy: 0.8026 - val_loss: 0.5481 - val_accuracy: 0.7987 - 26s/epoch - 53ms/step\n",
            "Epoch 6/30\n",
            "500/500 - 17s - loss: 0.4126 - accuracy: 0.8515 - val_loss: 0.4318 - val_accuracy: 0.8583 - 17s/epoch - 34ms/step\n",
            "Epoch 7/30\n",
            "500/500 - 19s - loss: 0.3321 - accuracy: 0.8847 - val_loss: 0.3894 - val_accuracy: 0.8723 - 19s/epoch - 39ms/step\n",
            "Epoch 8/30\n",
            "500/500 - 18s - loss: 0.2783 - accuracy: 0.9037 - val_loss: 0.3453 - val_accuracy: 0.8820 - 18s/epoch - 35ms/step\n",
            "Epoch 9/30\n",
            "500/500 - 18s - loss: 0.2453 - accuracy: 0.9142 - val_loss: 0.3338 - val_accuracy: 0.8875 - 18s/epoch - 36ms/step\n",
            "Epoch 10/30\n",
            "500/500 - 17s - loss: 0.2198 - accuracy: 0.9247 - val_loss: 0.3238 - val_accuracy: 0.8928 - 17s/epoch - 34ms/step\n",
            "Epoch 11/30\n",
            "500/500 - 17s - loss: 0.1865 - accuracy: 0.9345 - val_loss: 0.3081 - val_accuracy: 0.8995 - 17s/epoch - 34ms/step\n",
            "Epoch 12/30\n",
            "500/500 - 17s - loss: 0.1763 - accuracy: 0.9392 - val_loss: 0.3161 - val_accuracy: 0.8995 - 17s/epoch - 34ms/step\n",
            "Epoch 13/30\n",
            "500/500 - 17s - loss: 0.1539 - accuracy: 0.9459 - val_loss: 0.2869 - val_accuracy: 0.9045 - 17s/epoch - 35ms/step\n",
            "Epoch 14/30\n",
            "500/500 - 17s - loss: 0.1292 - accuracy: 0.9544 - val_loss: 0.3129 - val_accuracy: 0.9105 - 17s/epoch - 34ms/step\n",
            "Epoch 15/30\n",
            "500/500 - 18s - loss: 0.1201 - accuracy: 0.9551 - val_loss: 0.3131 - val_accuracy: 0.9062 - 18s/epoch - 36ms/step\n",
            "Epoch 16/30\n",
            "500/500 - 16s - loss: 0.1098 - accuracy: 0.9618 - val_loss: 0.2947 - val_accuracy: 0.9143 - 16s/epoch - 33ms/step\n",
            "Epoch 17/30\n",
            "500/500 - 16s - loss: 0.1112 - accuracy: 0.9613 - val_loss: 0.2769 - val_accuracy: 0.9145 - 16s/epoch - 33ms/step\n",
            "Epoch 18/30\n",
            "500/500 - 17s - loss: 0.0968 - accuracy: 0.9656 - val_loss: 0.3024 - val_accuracy: 0.9172 - 17s/epoch - 33ms/step\n",
            "Epoch 19/30\n",
            "500/500 - 17s - loss: 0.0858 - accuracy: 0.9696 - val_loss: 0.2784 - val_accuracy: 0.9170 - 17s/epoch - 34ms/step\n",
            "Epoch 20/30\n",
            "500/500 - 17s - loss: 0.0810 - accuracy: 0.9708 - val_loss: 0.3323 - val_accuracy: 0.9140 - 17s/epoch - 34ms/step\n",
            "Epoch 21/30\n",
            "500/500 - 17s - loss: 0.0822 - accuracy: 0.9711 - val_loss: 0.2934 - val_accuracy: 0.9160 - 17s/epoch - 33ms/step\n",
            "Epoch 22/30\n",
            "500/500 - 17s - loss: 0.0776 - accuracy: 0.9718 - val_loss: 0.3371 - val_accuracy: 0.9180 - 17s/epoch - 35ms/step\n",
            "Epoch 23/30\n",
            "500/500 - 17s - loss: 0.0698 - accuracy: 0.9754 - val_loss: 0.3147 - val_accuracy: 0.9168 - 17s/epoch - 34ms/step\n",
            "Epoch 24/30\n",
            "500/500 - 17s - loss: 0.0682 - accuracy: 0.9753 - val_loss: 0.3292 - val_accuracy: 0.9195 - 17s/epoch - 33ms/step\n",
            "Epoch 25/30\n",
            "500/500 - 17s - loss: 0.0654 - accuracy: 0.9765 - val_loss: 0.3382 - val_accuracy: 0.9147 - 17s/epoch - 34ms/step\n",
            "Epoch 26/30\n",
            "500/500 - 17s - loss: 0.0682 - accuracy: 0.9753 - val_loss: 0.3417 - val_accuracy: 0.9145 - 17s/epoch - 33ms/step\n",
            "Epoch 27/30\n",
            "500/500 - 17s - loss: 0.0615 - accuracy: 0.9786 - val_loss: 0.3342 - val_accuracy: 0.9178 - 17s/epoch - 33ms/step\n"
          ]
        }
      ]
    },
    {
      "cell_type": "code",
      "source": [
        "import matplotlib.pyplot as plt\n",
        "\n",
        "plt.plot(history.history['accuracy'])\n",
        "plt.plot(history.history['val_accuracy'])\n",
        "plt.title('model accuracy')\n",
        "plt.ylabel('accuracy')\n",
        "plt.xlabel('epoch')\n",
        "plt.legend(['train', 'test'], loc='upper left')\n",
        "plt.show()"
      ],
      "metadata": {
        "colab": {
          "base_uri": "https://localhost:8080/",
          "height": 295
        },
        "id": "yCakgPTfyA-1",
        "outputId": "80cec01c-18d2-4387-cd99-1519d60f09a8"
      },
      "execution_count": null,
      "outputs": [
        {
          "output_type": "display_data",
          "data": {
            "text/plain": [
              "<Figure size 432x288 with 1 Axes>"
            ],
            "image/png": "[encoded data removed]"
          },
          "metadata": {
            "needs_background": "light"
          }
        }
      ]
    },
    {
      "cell_type": "code",
      "source": [
        "plt.plot(history.history['loss'])\n",
        "plt.plot(history.history['val_loss'])\n",
        "plt.title('model loss')\n",
        "plt.ylabel('loss')\n",
        "plt.xlabel('epoch')\n",
        "plt.legend(['train', 'test'], loc='upper left')\n",
        "plt.show()"
      ],
      "metadata": {
        "colab": {
          "base_uri": "https://localhost:8080/",
          "height": 295
        },
        "id": "2-J0W0bIyDmf",
        "outputId": "01f6d2d3-21b2-4659-ea42-ae92c91985b7"
      },
      "execution_count": null,
      "outputs": [
        {
          "output_type": "display_data",
          "data": {
            "text/plain": [
              "<Figure size 432x288 with 1 Axes>"
            ],
            "image/png": "[encoded data removed]"
          },
          "metadata": {
            "needs_background": "light"
          }
        }
      ]
    },
    {
      "cell_type": "code",
      "source": [
        "accuracy_score = model.evaluate(padded_test, e_test)\n",
        "print(accuracy_score)\n",
        "\n",
        "print(\"Accuracy: {:.4f}%\".format(accuracy_score[1] * 100)) \n",
        "print(\"Loss: \",accuracy_score[0])"
      ],
      "metadata": {
        "colab": {
          "base_uri": "https://localhost:8080/"
        },
        "id": "CCk-yrPwyEud",
        "outputId": "99f27c4d-f060-4fdf-94ca-619990a3ded8"
      },
      "execution_count": null,
      "outputs": [
        {
          "output_type": "stream",
          "name": "stdout",
          "text": [
            "125/125 [==============================] - 2s 12ms/step - loss: 0.2769 - accuracy: 0.9145\n",
            "[0.2769295275211334, 0.9144999980926514]\n",
            "Accuracy: 91.4500%\n",
            "Loss:  0.2769295275211334\n"
          ]
        }
      ]
    }
  ]
}
